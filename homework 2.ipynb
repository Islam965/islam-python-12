{
 "cells": [
  {
   "cell_type": "code",
   "execution_count": 1,
   "id": "84a1f2c9",
   "metadata": {},
   "outputs": [
    {
     "name": "stdout",
     "output_type": "stream",
     "text": [
      "36\n"
     ]
    }
   ],
   "source": [
    "def multiply_list(items):\n",
    "    tot = 1\n",
    "    for x in items:\n",
    "        tot *= x\n",
    "    return tot\n",
    "print(multiply_list([2,3,6]))\n"
   ]
  },
  {
   "cell_type": "code",
   "execution_count": 2,
   "id": "0b88170f",
   "metadata": {},
   "outputs": [
    {
     "name": "stdout",
     "output_type": "stream",
     "text": [
      "[(2, 1), (1, 2), (2, 3), (4, 4), (2, 5)]\n"
     ]
    }
   ],
   "source": [
    "def last(n): return n[-1]\n",
    "\n",
    "def sort_list_last(tuples):\n",
    "    return sorted(tuples, key=last)\n",
    "\n",
    "print(sort_list_last([(2, 5), (1, 2), (4, 4), (2, 3), (2, 1)]))\n",
    "\n"
   ]
  },
  {
   "cell_type": "code",
   "execution_count": 3,
   "id": "73d11186",
   "metadata": {},
   "outputs": [
    {
     "name": "stdout",
     "output_type": "stream",
     "text": [
      "{'a': 400, 'b': 400, 'c': 300, 'd': 400}\n"
     ]
    }
   ],
   "source": [
    "d1 = {'a': 100, 'b': 200, 'c':300}\n",
    "d2 = {'a': 300, 'b': 200, 'd':400}\n",
    "\n",
    "d = {}\n",
    "for k in d1.keys() | d2.keys():\n",
    "    d[k] = d1.get(k, 0) + d2.get(k, 0)\n",
    "\n",
    "print(d)\n"
   ]
  },
  {
   "cell_type": "code",
   "execution_count": 4,
   "id": "b2916ace",
   "metadata": {},
   "outputs": [
    {
     "name": "stdout",
     "output_type": "stream",
     "text": [
      "Enter the Number8\n",
      "{1: 1, 2: 4, 3: 9, 4: 16, 5: 25, 6: 36, 7: 49, 8: 64}\n"
     ]
    }
   ],
   "source": [
    "n=int(input(\"Enter the Number\"))\n",
    "d=dict()\n",
    "for i in range(1,n+1):\n",
    "\td[i]=i*i \n",
    "print(d)\n"
   ]
  },
  {
   "cell_type": "code",
   "execution_count": 5,
   "id": "c3e3edc9",
   "metadata": {},
   "outputs": [
    {
     "name": "stdout",
     "output_type": "stream",
     "text": [
      "Sorting of Tuples Using Its Float Element :: [('item3', '24.5'), ('item2', '15.10'), ('item1', '12.20')]\n"
     ]
    }
   ],
   "source": [
    "\n",
    "def sort_tuple(X):\n",
    "    return(sorted(X, key = lambda n: float(n[1]), reverse = True))\n",
    "# The driver Code\n",
    "X = [('item1', '12.20'), ('item2', '15.10'), ('item3', '24.5')]\n",
    "print(\"Sorting of Tuples Using Its Float Element ::\",sort_tuple(X))\n"
   ]
  },
  {
   "cell_type": "code",
   "execution_count": 6,
   "id": "f7e976e0",
   "metadata": {},
   "outputs": [
    {
     "name": "stdout",
     "output_type": "stream",
     "text": [
      "{'aziz', 'abdo', 'karim', 'islam'}\n",
      "{'aziz', 'islam', 'abdo'}\n"
     ]
    }
   ],
   "source": [
    "names = {\"aziz\", \"karim\", \"abdo\"}\n",
    "\n",
    "names.add(\"islam\")\n",
    "print(names)\n",
    "\n",
    "names = {\"islam\",\"aziz\", \"karim\", \"abdo\"}\n",
    "\n",
    "names.remove(\"karim\")\n",
    "print(names)\n"
   ]
  },
  {
   "cell_type": "code",
   "execution_count": null,
   "id": "cc07a573",
   "metadata": {},
   "outputs": [],
   "source": []
  }
 ],
 "metadata": {
  "kernelspec": {
   "display_name": "Python 3 (ipykernel)",
   "language": "python",
   "name": "python3"
  },
  "language_info": {
   "codemirror_mode": {
    "name": "ipython",
    "version": 3
   },
   "file_extension": ".py",
   "mimetype": "text/x-python",
   "name": "python",
   "nbconvert_exporter": "python",
   "pygments_lexer": "ipython3",
   "version": "3.10.9"
  }
 },
 "nbformat": 4,
 "nbformat_minor": 5
}
