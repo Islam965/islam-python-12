{
 "cells": [
  {
   "cell_type": "code",
   "execution_count": 6,
   "id": "6f919ad5",
   "metadata": {},
   "outputs": [
    {
     "name": "stdout",
     "output_type": "stream",
     "text": [
      "Guess a number between 1 and 100 .5\n",
      " your guess was too low .\n",
      "Guess agian.40\n",
      " your guess was too low .\n",
      "Guess agian.60\n",
      " your guess was too low .\n",
      "Guess agian.60\n",
      " your guess was too low .\n",
      "Guess agian.70\n",
      " your guess was too low .\n",
      "Guess agian.66\n",
      " your guess was too low .\n",
      "Guess agian.67\n",
      " your guess was too low .\n",
      "Guess agian.68\n",
      " your guess was too low .\n",
      "Guess agian.69\n",
      " your guess was too low .\n",
      "Guess agian.70\n",
      " your guess was too low .\n",
      "Guess agian.80\n",
      " your guess was too low .\n",
      "Guess agian.90\n",
      "your guess was too high.\n",
      "Guess again.88\n",
      " your guess was too low .\n",
      "Guess agian.98\n",
      "your guess was too high.\n",
      "Guess again.89\n",
      "Congratulationes, you guessed the number !\n"
     ]
    }
   ],
   "source": [
    "from random import randint\n",
    "guesses = 1\n",
    "number = randint(1,100)\n",
    "\n",
    "guess = int(input(\"Guess a number between 1 and 100 .\"))\n",
    "\n",
    "while guess != number:\n",
    "    if guess < number:\n",
    "        print(\" your guess was too low .\")\n",
    "        guess = int(input(\"Guess agian.\"))\n",
    "        guesses = guesses + 1\n",
    "    elif guess > number:\n",
    "        print(\"your guess was too high.\")\n",
    "        guess = int(input(\"Guess again.\"))\n",
    "        guesses = guess + 1\n",
    "    \n",
    "print (\"Congratulationes, you guessed the number !\")    \n",
    "    \n",
    "    "
   ]
  },
  {
   "cell_type": "code",
   "execution_count": null,
   "id": "033425ce",
   "metadata": {},
   "outputs": [],
   "source": []
  },
  {
   "cell_type": "code",
   "execution_count": null,
   "id": "02cf03ae",
   "metadata": {},
   "outputs": [],
   "source": []
  }
 ],
 "metadata": {
  "kernelspec": {
   "display_name": "Python 3 (ipykernel)",
   "language": "python",
   "name": "python3"
  },
  "language_info": {
   "codemirror_mode": {
    "name": "ipython",
    "version": 3
   },
   "file_extension": ".py",
   "mimetype": "text/x-python",
   "name": "python",
   "nbconvert_exporter": "python",
   "pygments_lexer": "ipython3",
   "version": "3.10.9"
  }
 },
 "nbformat": 4,
 "nbformat_minor": 5
}
